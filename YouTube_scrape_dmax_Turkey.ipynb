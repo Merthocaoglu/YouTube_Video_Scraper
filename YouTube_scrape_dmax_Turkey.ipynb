{
 "cells": [
  {
   "cell_type": "code",
   "execution_count": 5,
   "id": "7e93a81c",
   "metadata": {},
   "outputs": [],
   "source": [
    "from selenium import webdriver\n",
    "from selenium.webdriver.common.keys import Keys\n",
    "from selenium.webdriver.chrome.service import Service as ChromeService\n",
    "from webdriver_manager.chrome import ChromeDriverManager\n",
    "import time\n",
    "from bs4 import BeautifulSoup\n",
    "from selenium.webdriver.common.by import By"
   ]
  },
  {
   "cell_type": "code",
   "execution_count": 6,
   "id": "0648eb90",
   "metadata": {},
   "outputs": [],
   "source": [
    "driver = webdriver.Chrome(service=ChromeService(ChromeDriverManager().install()))"
   ]
  },
  {
   "cell_type": "code",
   "execution_count": 7,
   "id": "414fb7f1",
   "metadata": {},
   "outputs": [],
   "source": [
    "driver.get('https://www.youtube.com/@DMAXTurkiye/videos')"
   ]
  },
  {
   "cell_type": "code",
   "execution_count": 8,
   "id": "e8f86182",
   "metadata": {},
   "outputs": [],
   "source": [
    "driver.find_element(By.TAG_NAME,\"body\").send_keys(Keys.END)"
   ]
  },
  {
   "cell_type": "code",
   "execution_count": 9,
   "id": "38c7ce86",
   "metadata": {},
   "outputs": [],
   "source": [
    "for _ in range(60):\n",
    "    driver.find_element(By.TAG_NAME,\"body\").send_keys(Keys.END)\n",
    "    time.sleep(3)"
   ]
  },
  {
   "cell_type": "code",
   "execution_count": 10,
   "id": "cbd78673",
   "metadata": {},
   "outputs": [],
   "source": [
    "html = driver.page_source"
   ]
  },
  {
   "cell_type": "code",
   "execution_count": 11,
   "id": "ee841ce5",
   "metadata": {},
   "outputs": [],
   "source": [
    "soup = BeautifulSoup(html,'html.parser')"
   ]
  },
  {
   "cell_type": "code",
   "execution_count": 12,
   "id": "b2c22d5e",
   "metadata": {},
   "outputs": [],
   "source": [
    "videos = soup.find_all('div',{'id':'dismissible'})"
   ]
  },
  {
   "cell_type": "code",
   "execution_count": 13,
   "id": "52da20c9",
   "metadata": {},
   "outputs": [],
   "source": [
    "master_list = []\n",
    "for video in videos:\n",
    "    data_dict = {}\n",
    "    data_dict['title'] = video.find('a',{'id':'video-title-link'}).text\n",
    "    data_dict['video_url'] = 'https://www.youtube.com'+video.find('a',{'id':'video-title-link'})['href']\n",
    "    meta = video.find('div',{'id':'metadata-line'}).find_all('span')\n",
    "    data_dict['views'] = meta[0].text\n",
    "    data_dict['video_age'] = meta[1].text\n",
    "    \n",
    "    master_list.append(data_dict)"
   ]
  },
  {
   "cell_type": "code",
   "execution_count": 14,
   "id": "1a85259c",
   "metadata": {},
   "outputs": [],
   "source": [
    "import pandas as pd"
   ]
  },
  {
   "cell_type": "code",
   "execution_count": 15,
   "id": "68ac9a6f",
   "metadata": {},
   "outputs": [],
   "source": [
    "youtube_df = pd.DataFrame(master_list)"
   ]
  },
  {
   "cell_type": "code",
   "execution_count": 16,
   "id": "cd131d54",
   "metadata": {},
   "outputs": [
    {
     "data": {
      "text/html": [
       "<div>\n",
       "<style scoped>\n",
       "    .dataframe tbody tr th:only-of-type {\n",
       "        vertical-align: middle;\n",
       "    }\n",
       "\n",
       "    .dataframe tbody tr th {\n",
       "        vertical-align: top;\n",
       "    }\n",
       "\n",
       "    .dataframe thead th {\n",
       "        text-align: right;\n",
       "    }\n",
       "</style>\n",
       "<table border=\"1\" class=\"dataframe\">\n",
       "  <thead>\n",
       "    <tr style=\"text-align: right;\">\n",
       "      <th></th>\n",
       "      <th>title</th>\n",
       "      <th>video_url</th>\n",
       "      <th>views</th>\n",
       "      <th>video_age</th>\n",
       "    </tr>\n",
       "  </thead>\n",
       "  <tbody>\n",
       "    <tr>\n",
       "      <th>0</th>\n",
       "      <td>BMW'den Önce Araba Yapmak | Tamirat Tadilat</td>\n",
       "      <td>https://www.youtube.com/watch?v=n91P4jYo90I</td>\n",
       "      <td>39 B görüntüleme</td>\n",
       "      <td>1 gün önce</td>\n",
       "    </tr>\n",
       "    <tr>\n",
       "      <th>1</th>\n",
       "      <td>Ed Stafford Çingene Mi? | Ed Stafford İle Çing...</td>\n",
       "      <td>https://www.youtube.com/watch?v=ndPC7q4BdkQ</td>\n",
       "      <td>19 B görüntüleme</td>\n",
       "      <td>1 gün önce</td>\n",
       "    </tr>\n",
       "    <tr>\n",
       "      <th>2</th>\n",
       "      <td>Önce Zayıf Takımları Yakalamalıyız! | Sakın Ya...</td>\n",
       "      <td>https://www.youtube.com/watch?v=G2A1AYgMGlU</td>\n",
       "      <td>6,3 B görüntüleme</td>\n",
       "      <td>2 gün önce</td>\n",
       "    </tr>\n",
       "    <tr>\n",
       "      <th>3</th>\n",
       "      <td>100 Milyon Sterlinlik Büyük Soygun! | Bir Soyg...</td>\n",
       "      <td>https://www.youtube.com/watch?v=0ceFGdLTT1E</td>\n",
       "      <td>10 B görüntüleme</td>\n",
       "      <td>3 gün önce</td>\n",
       "    </tr>\n",
       "    <tr>\n",
       "      <th>4</th>\n",
       "      <td>Yeni Lahit Ve Eski Çalışanlar | Çernobil'e Dönüş</td>\n",
       "      <td>https://www.youtube.com/watch?v=LWgCdF6wjJA</td>\n",
       "      <td>4,9 B görüntüleme</td>\n",
       "      <td>3 gün önce</td>\n",
       "    </tr>\n",
       "    <tr>\n",
       "      <th>...</th>\n",
       "      <td>...</td>\n",
       "      <td>...</td>\n",
       "      <td>...</td>\n",
       "      <td>...</td>\n",
       "    </tr>\n",
       "    <tr>\n",
       "      <th>1313</th>\n",
       "      <td>Ed Stafford'ı daha yakından tanıyalım. 🏝️</td>\n",
       "      <td>https://www.youtube.com/watch?v=BN6b7hqU5FM</td>\n",
       "      <td>36 B görüntüleme</td>\n",
       "      <td>5 yıl önce</td>\n",
       "    </tr>\n",
       "    <tr>\n",
       "      <th>1314</th>\n",
       "      <td>Vahşi Frank: Brezilya Macerası</td>\n",
       "      <td>https://www.youtube.com/watch?v=EryBTcPL1sE</td>\n",
       "      <td>40 B görüntüleme</td>\n",
       "      <td>5 yıl önce</td>\n",
       "    </tr>\n",
       "    <tr>\n",
       "      <th>1315</th>\n",
       "      <td>DMAX, 17 Mart'ta tüm platformlarda!</td>\n",
       "      <td>https://www.youtube.com/watch?v=wjUshUwwCLc</td>\n",
       "      <td>3,8 B görüntüleme</td>\n",
       "      <td>5 yıl önce</td>\n",
       "    </tr>\n",
       "    <tr>\n",
       "      <th>1316</th>\n",
       "      <td>DMAX, 17 Mart Cumartesi 22:30'da yayın başlıyor!</td>\n",
       "      <td>https://www.youtube.com/watch?v=irnJrgEs3tg</td>\n",
       "      <td>7,6 B görüntüleme</td>\n",
       "      <td>5 yıl önce</td>\n",
       "    </tr>\n",
       "    <tr>\n",
       "      <th>1317</th>\n",
       "      <td>DMAX geliyor!</td>\n",
       "      <td>https://www.youtube.com/watch?v=Tl11QBain4c</td>\n",
       "      <td>39 B görüntüleme</td>\n",
       "      <td>5 yıl önce</td>\n",
       "    </tr>\n",
       "  </tbody>\n",
       "</table>\n",
       "<p>1318 rows × 4 columns</p>\n",
       "</div>"
      ],
      "text/plain": [
       "                                                  title  \\\n",
       "0           BMW'den Önce Araba Yapmak | Tamirat Tadilat   \n",
       "1     Ed Stafford Çingene Mi? | Ed Stafford İle Çing...   \n",
       "2     Önce Zayıf Takımları Yakalamalıyız! | Sakın Ya...   \n",
       "3     100 Milyon Sterlinlik Büyük Soygun! | Bir Soyg...   \n",
       "4      Yeni Lahit Ve Eski Çalışanlar | Çernobil'e Dönüş   \n",
       "...                                                 ...   \n",
       "1313          Ed Stafford'ı daha yakından tanıyalım. 🏝️   \n",
       "1314                     Vahşi Frank: Brezilya Macerası   \n",
       "1315                DMAX, 17 Mart'ta tüm platformlarda!   \n",
       "1316   DMAX, 17 Mart Cumartesi 22:30'da yayın başlıyor!   \n",
       "1317                                      DMAX geliyor!   \n",
       "\n",
       "                                        video_url              views  \\\n",
       "0     https://www.youtube.com/watch?v=n91P4jYo90I   39 B görüntüleme   \n",
       "1     https://www.youtube.com/watch?v=ndPC7q4BdkQ   19 B görüntüleme   \n",
       "2     https://www.youtube.com/watch?v=G2A1AYgMGlU  6,3 B görüntüleme   \n",
       "3     https://www.youtube.com/watch?v=0ceFGdLTT1E   10 B görüntüleme   \n",
       "4     https://www.youtube.com/watch?v=LWgCdF6wjJA  4,9 B görüntüleme   \n",
       "...                                           ...                ...   \n",
       "1313  https://www.youtube.com/watch?v=BN6b7hqU5FM   36 B görüntüleme   \n",
       "1314  https://www.youtube.com/watch?v=EryBTcPL1sE   40 B görüntüleme   \n",
       "1315  https://www.youtube.com/watch?v=wjUshUwwCLc  3,8 B görüntüleme   \n",
       "1316  https://www.youtube.com/watch?v=irnJrgEs3tg  7,6 B görüntüleme   \n",
       "1317  https://www.youtube.com/watch?v=Tl11QBain4c   39 B görüntüleme   \n",
       "\n",
       "       video_age  \n",
       "0     1 gün önce  \n",
       "1     1 gün önce  \n",
       "2     2 gün önce  \n",
       "3     3 gün önce  \n",
       "4     3 gün önce  \n",
       "...          ...  \n",
       "1313  5 yıl önce  \n",
       "1314  5 yıl önce  \n",
       "1315  5 yıl önce  \n",
       "1316  5 yıl önce  \n",
       "1317  5 yıl önce  \n",
       "\n",
       "[1318 rows x 4 columns]"
      ]
     },
     "execution_count": 16,
     "metadata": {},
     "output_type": "execute_result"
    }
   ],
   "source": [
    "youtube_df"
   ]
  },
  {
   "cell_type": "code",
   "execution_count": 18,
   "id": "57f96d5f",
   "metadata": {},
   "outputs": [],
   "source": [
    "youtube_df.to_csv('YouTube_scrape_dmax_Turkey.csv', index=False)"
   ]
  },
  {
   "cell_type": "code",
   "execution_count": null,
   "id": "68779a8e",
   "metadata": {},
   "outputs": [],
   "source": []
  },
  {
   "cell_type": "code",
   "execution_count": null,
   "id": "0a23f893",
   "metadata": {},
   "outputs": [],
   "source": []
  },
  {
   "cell_type": "code",
   "execution_count": null,
   "id": "f9d73db7",
   "metadata": {},
   "outputs": [],
   "source": []
  },
  {
   "cell_type": "code",
   "execution_count": null,
   "id": "2c092c53",
   "metadata": {},
   "outputs": [],
   "source": []
  },
  {
   "cell_type": "code",
   "execution_count": null,
   "id": "f2dcb52e",
   "metadata": {},
   "outputs": [],
   "source": []
  },
  {
   "cell_type": "code",
   "execution_count": null,
   "id": "8d21de2e",
   "metadata": {},
   "outputs": [],
   "source": []
  }
 ],
 "metadata": {
  "kernelspec": {
   "display_name": "Python 3 (ipykernel)",
   "language": "python",
   "name": "python3"
  },
  "language_info": {
   "codemirror_mode": {
    "name": "ipython",
    "version": 3
   },
   "file_extension": ".py",
   "mimetype": "text/x-python",
   "name": "python",
   "nbconvert_exporter": "python",
   "pygments_lexer": "ipython3",
   "version": "3.11.4"
  }
 },
 "nbformat": 4,
 "nbformat_minor": 5
}
